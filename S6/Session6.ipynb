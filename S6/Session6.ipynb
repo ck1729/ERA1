{
  "nbformat": 4,
  "nbformat_minor": 0,
  "metadata": {
    "colab": {
      "provenance": [],
      "include_colab_link": true
    },
    "kernelspec": {
      "name": "python3",
      "display_name": "Python 3"
    },
    "accelerator": "GPU"
  },
  "cells": [
    {
      "cell_type": "markdown",
      "metadata": {
        "id": "view-in-github",
        "colab_type": "text"
      },
      "source": [
        "<a href=\"https://colab.research.google.com/github/ck1729/ERA1/blob/main/S6/Session6.ipynb\" target=\"_parent\"><img src=\"https://colab.research.google.com/assets/colab-badge.svg\" alt=\"Open In Colab\"/></a>"
      ]
    },
    {
      "cell_type": "markdown",
      "source": [
        "### CODE BLOCK 0: Import the required libraries"
      ],
      "metadata": {
        "id": "ix9mEjyCoWtl"
      }
    },
    {
      "cell_type": "code",
      "metadata": {
        "id": "0m2JWFliFfKT"
      },
      "source": [
        "from __future__ import print_function\n",
        "import torch\n",
        "import torch.nn as nn\n",
        "import torch.nn.functional as F\n",
        "import torch.optim as optim\n",
        "from torchvision import datasets, transforms\n",
        "\n",
        "import time"
      ],
      "execution_count": 1,
      "outputs": []
    },
    {
      "cell_type": "markdown",
      "source": [
        "#### CODE BLOCK 1: Build Your Network Architecture"
      ],
      "metadata": {
        "id": "AWt8g2lXox5O"
      }
    },
    {
      "cell_type": "code",
      "metadata": {
        "id": "h_Cx9q2QFgM7"
      },
      "source": [
        "class Net(nn.Module):\n",
        "    def __init__(self):\n",
        "        super(Net, self).__init__()\n",
        "        \n",
        "        self.conv1 = nn.Sequential(\n",
        "            nn.Conv2d(1, 8, 3, padding=1), # IN=28 OUT=28 RF=3 \n",
        "            nn.ReLU(),\n",
        "            nn.BatchNorm2d(8),\n",
        "            nn.Conv2d(8, 16, 3, padding=1), # IN=28 OUT=28 RF=5 \n",
        "            nn.ReLU(),\n",
        "            nn.BatchNorm2d(16),\n",
        "            nn.Conv2d(16, 16, 3, padding=1), # IN=28 OUT=28 RF=7\n",
        "            nn.ReLU(),\n",
        "            nn.BatchNorm2d(16),\n",
        "            nn.MaxPool2d(2, 2),             # IN=28 OUT=14 RF=14\n",
        "            nn.Dropout(0.2)\n",
        "        )\n",
        "        \n",
        "        self.conv2 = nn.Sequential(\n",
        "            nn.Conv2d(16, 16, 3, padding=1), # IN=14 OUT=14 RF=16\n",
        "            nn.ReLU(),\n",
        "            nn.BatchNorm2d(16),\n",
        "            nn.Conv2d(16, 16, 3, padding=1), # IN=14 OUT=14 RF=18\n",
        "            nn.ReLU(),\n",
        "            nn.BatchNorm2d(16),\n",
        "            nn.Conv2d(16, 16, 3), # IN=14 OUT=12 RF=20\n",
        "            nn.ReLU(),\n",
        "            nn.BatchNorm2d(16),\n",
        "            nn.MaxPool2d(2, 2), # IN=12 OUT=6 RF=40\n",
        "            nn.Dropout(0.2)\n",
        "        )\n",
        "        \n",
        "        self.conv3 = nn.Sequential(\n",
        "            nn.Conv2d(16, 32, 3, padding=1), # IN=6 OUT=6 RF=42\n",
        "        )\n",
        "\n",
        "        self.gap = nn.Sequential(\n",
        "           nn.AvgPool2d(6)\n",
        "        )\n",
        "        \n",
        "        self.fc = nn.Sequential(\n",
        "            nn.Linear(32, 10)\n",
        "        )\n",
        "                \n",
        "        \n",
        "    def forward(self, x):\n",
        "        x = self.conv1(x)\n",
        "        x = self.conv2(x)\n",
        "        x = self.conv3(x)\n",
        "        x = self.gap(x)\n",
        "        x = x.view(x.size(0), -1)\n",
        "        x = self.fc(x)\n",
        "        x = F.log_softmax(x, dim=1)\n",
        "        return x\n"
      ],
      "execution_count": 13,
      "outputs": []
    },
    {
      "cell_type": "markdown",
      "source": [
        "CODE BLOCK 2: Model Summary"
      ],
      "metadata": {
        "id": "7O5qs3-nuupu"
      }
    },
    {
      "cell_type": "code",
      "source": [
        "# !pip install torchsummary"
      ],
      "metadata": {
        "id": "LOaAa2Qdu2u9"
      },
      "execution_count": 14,
      "outputs": []
    },
    {
      "cell_type": "code",
      "source": [
        "from torchsummary import summary\n",
        "use_cuda = torch.cuda.is_available()\n",
        "device = torch.device(\"cuda\" if use_cuda else \"cpu\")\n",
        "model = Net().to(device)\n",
        "summary(model, input_size=(1, 28, 28))"
      ],
      "metadata": {
        "colab": {
          "base_uri": "https://localhost:8080/"
        },
        "id": "gDKsMfSzuuRh",
        "outputId": "8f87cc08-fdb4-4faf-b2b9-b24f17103972"
      },
      "execution_count": 15,
      "outputs": [
        {
          "output_type": "stream",
          "name": "stdout",
          "text": [
            "----------------------------------------------------------------\n",
            "        Layer (type)               Output Shape         Param #\n",
            "================================================================\n",
            "            Conv2d-1            [-1, 8, 28, 28]              80\n",
            "              ReLU-2            [-1, 8, 28, 28]               0\n",
            "       BatchNorm2d-3            [-1, 8, 28, 28]              16\n",
            "            Conv2d-4           [-1, 16, 28, 28]           1,168\n",
            "              ReLU-5           [-1, 16, 28, 28]               0\n",
            "       BatchNorm2d-6           [-1, 16, 28, 28]              32\n",
            "            Conv2d-7           [-1, 16, 28, 28]           2,320\n",
            "              ReLU-8           [-1, 16, 28, 28]               0\n",
            "       BatchNorm2d-9           [-1, 16, 28, 28]              32\n",
            "        MaxPool2d-10           [-1, 16, 14, 14]               0\n",
            "          Dropout-11           [-1, 16, 14, 14]               0\n",
            "           Conv2d-12           [-1, 16, 14, 14]           2,320\n",
            "             ReLU-13           [-1, 16, 14, 14]               0\n",
            "      BatchNorm2d-14           [-1, 16, 14, 14]              32\n",
            "           Conv2d-15           [-1, 16, 14, 14]           2,320\n",
            "             ReLU-16           [-1, 16, 14, 14]               0\n",
            "      BatchNorm2d-17           [-1, 16, 14, 14]              32\n",
            "           Conv2d-18           [-1, 16, 12, 12]           2,320\n",
            "             ReLU-19           [-1, 16, 12, 12]               0\n",
            "      BatchNorm2d-20           [-1, 16, 12, 12]              32\n",
            "        MaxPool2d-21             [-1, 16, 6, 6]               0\n",
            "          Dropout-22             [-1, 16, 6, 6]               0\n",
            "           Conv2d-23             [-1, 32, 6, 6]           4,640\n",
            "        AvgPool2d-24             [-1, 32, 1, 1]               0\n",
            "           Linear-25                   [-1, 10]             330\n",
            "================================================================\n",
            "Total params: 15,674\n",
            "Trainable params: 15,674\n",
            "Non-trainable params: 0\n",
            "----------------------------------------------------------------\n",
            "Input size (MB): 0.00\n",
            "Forward/backward pass size (MB): 0.98\n",
            "Params size (MB): 0.06\n",
            "Estimated Total Size (MB): 1.04\n",
            "----------------------------------------------------------------\n"
          ]
        }
      ]
    },
    {
      "cell_type": "markdown",
      "source": [
        "#### CODE BLOCK 3: Define your Train and Test Loaders"
      ],
      "metadata": {
        "id": "e5CuXC26pMJD"
      }
    },
    {
      "cell_type": "code",
      "source": [
        "torch.manual_seed(1)\n",
        "batch_size = 128\n",
        "\n",
        "kwargs = {'num_workers': 1, 'pin_memory': True} if use_cuda else {}\n",
        "train_loader = torch.utils.data.DataLoader(\n",
        "    datasets.MNIST('../data', train=True, download=True,\n",
        "                    transform=transforms.Compose([\n",
        "                        # transforms.RandomRotation(15),\n",
        "                        transforms.RandomAffine(degrees=10, translate=(0.1,0.1), scale=(0.9, 1.1)),\n",
        "                        transforms.ColorJitter(brightness=0.2, contrast=0.2),\n",
        "                        transforms.ToTensor(),\n",
        "                        transforms.Normalize((0.1307,), (0.3081,))\n",
        "                    ])),\n",
        "    batch_size=batch_size, shuffle=True, **kwargs)\n",
        "test_loader = torch.utils.data.DataLoader(\n",
        "    datasets.MNIST('../data', train=False, transform=transforms.Compose([\n",
        "                        transforms.ToTensor(),\n",
        "                        transforms.Normalize((0.1307,), (0.3081,))\n",
        "                    ])),\n",
        "    batch_size=batch_size, shuffle=True, **kwargs)"
      ],
      "metadata": {
        "id": "dcO-BkiHpN-x"
      },
      "execution_count": 16,
      "outputs": []
    },
    {
      "cell_type": "markdown",
      "source": [
        "CODE BLOCK 4: Model Train and Test Functions"
      ],
      "metadata": {
        "id": "g-xZEOwCv3U3"
      }
    },
    {
      "cell_type": "code",
      "metadata": {
        "id": "So5uk4EkHW6R"
      },
      "source": [
        "from tqdm import tqdm\n",
        "def train(model, device, train_loader, optimizer, epoch):\n",
        "    model.train()\n",
        "    train_loss = 0\n",
        "    pbar = tqdm(train_loader)\n",
        "    for batch_idx, (data, target) in enumerate(pbar):\n",
        "        data, target = data.to(device), target.to(device)\n",
        "        optimizer.zero_grad()\n",
        "        output = model(data)\n",
        "        loss = F.nll_loss(output, target)\n",
        "        loss.backward()\n",
        "        optimizer.step()\n",
        "        pbar.set_description(desc= f'Epoch: {epoch} | Train Loss={loss.item():0.4f}')\n",
        "        train_loss += loss.item()\n",
        "    return train_loss\n",
        "def test(model, device, test_loader):\n",
        "    model.eval()\n",
        "    test_loss = 0\n",
        "    correct = 0\n",
        "    with torch.no_grad():\n",
        "        for data, target in test_loader:\n",
        "            data, target = data.to(device), target.to(device)\n",
        "            output = model(data)\n",
        "            test_loss += F.nll_loss(output, target, reduction='sum').item()  # sum up batch loss\n",
        "            pred = output.argmax(dim=1, keepdim=True)  # get the index of the max log-probability\n",
        "            correct += pred.eq(target.view_as(pred)).sum().item()\n",
        "\n",
        "    test_loss /= len(test_loader.dataset)\n",
        "    test_acc = 100*(correct/len(test_loader.dataset))\n",
        "    print(f'Test loss: {test_loss:.4f} | Test Accuracy: {100*(correct/len(test_loader.dataset)):0.2f}')\n",
        "    return test_loss, test_acc"
      ],
      "execution_count": 17,
      "outputs": []
    },
    {
      "cell_type": "markdown",
      "source": [
        "CODE BLOCK 5: Model Scheduler and Trainer"
      ],
      "metadata": {
        "id": "57kn7qn9wSWN"
      }
    },
    {
      "cell_type": "code",
      "source": [
        "model = Net().to(device)\n",
        "optimizer = optim.SGD(model.parameters(), lr=0.01, momentum=0.9)\n",
        "\n",
        "train_losses, test_losses = [], []\n",
        "test_accuracy = []\n",
        "\n",
        "for epoch in range(20):\n",
        "    start = time.time()\n",
        "    \n",
        "    running_loss = 0\n",
        "    accuracy=0\n",
        "\n",
        "    train_loss = train(model, device, train_loader, optimizer, epoch)\n",
        "    train_losses.append(train_loss/len(train_loader))\n",
        "\n",
        "    test_loss, test_acc = test(model, device, test_loader)\n",
        "    test_losses.append(test_loss)\n",
        "    test_accuracy.append(test_accuracy)\n",
        "\n",
        "    end = time.time()\n",
        "    print(f'Time: {(end-start):0.2f} sec\\n')"
      ],
      "metadata": {
        "colab": {
          "base_uri": "https://localhost:8080/"
        },
        "id": "PKxNrueuwF2-",
        "outputId": "1fb546b6-1516-4b9c-9777-de0d8ec8f57f"
      },
      "execution_count": 18,
      "outputs": [
        {
          "output_type": "stream",
          "name": "stderr",
          "text": [
            "Epoch: 0 | Train Loss=0.1633: 100%|██████████| 469/469 [00:42<00:00, 11.04it/s]\n"
          ]
        },
        {
          "output_type": "stream",
          "name": "stdout",
          "text": [
            "Test loss: 0.0866 | Test Accuracy: 97.57\n",
            "Time: 46.11 sec\n",
            "\n"
          ]
        },
        {
          "output_type": "stream",
          "name": "stderr",
          "text": [
            "Epoch: 1 | Train Loss=0.0482: 100%|██████████| 469/469 [00:42<00:00, 11.07it/s]\n"
          ]
        },
        {
          "output_type": "stream",
          "name": "stdout",
          "text": [
            "Test loss: 0.0508 | Test Accuracy: 98.36\n",
            "Time: 44.93 sec\n",
            "\n"
          ]
        },
        {
          "output_type": "stream",
          "name": "stderr",
          "text": [
            "Epoch: 2 | Train Loss=0.0916: 100%|██████████| 469/469 [00:42<00:00, 10.95it/s]\n"
          ]
        },
        {
          "output_type": "stream",
          "name": "stdout",
          "text": [
            "Test loss: 0.0360 | Test Accuracy: 98.88\n",
            "Time: 45.46 sec\n",
            "\n"
          ]
        },
        {
          "output_type": "stream",
          "name": "stderr",
          "text": [
            "Epoch: 3 | Train Loss=0.0944: 100%|██████████| 469/469 [00:42<00:00, 10.97it/s]\n"
          ]
        },
        {
          "output_type": "stream",
          "name": "stdout",
          "text": [
            "Test loss: 0.0517 | Test Accuracy: 98.36\n",
            "Time: 46.14 sec\n",
            "\n"
          ]
        },
        {
          "output_type": "stream",
          "name": "stderr",
          "text": [
            "Epoch: 4 | Train Loss=0.0146: 100%|██████████| 469/469 [00:41<00:00, 11.21it/s]\n"
          ]
        },
        {
          "output_type": "stream",
          "name": "stdout",
          "text": [
            "Test loss: 0.0422 | Test Accuracy: 98.65\n",
            "Time: 44.43 sec\n",
            "\n"
          ]
        },
        {
          "output_type": "stream",
          "name": "stderr",
          "text": [
            "Epoch: 5 | Train Loss=0.0749: 100%|██████████| 469/469 [00:42<00:00, 11.01it/s]\n"
          ]
        },
        {
          "output_type": "stream",
          "name": "stdout",
          "text": [
            "Test loss: 0.0430 | Test Accuracy: 98.65\n",
            "Time: 45.19 sec\n",
            "\n"
          ]
        },
        {
          "output_type": "stream",
          "name": "stderr",
          "text": [
            "Epoch: 6 | Train Loss=0.0081: 100%|██████████| 469/469 [00:43<00:00, 10.87it/s]\n"
          ]
        },
        {
          "output_type": "stream",
          "name": "stdout",
          "text": [
            "Test loss: 0.0337 | Test Accuracy: 98.94\n",
            "Time: 46.41 sec\n",
            "\n"
          ]
        },
        {
          "output_type": "stream",
          "name": "stderr",
          "text": [
            "Epoch: 7 | Train Loss=0.1861: 100%|██████████| 469/469 [00:42<00:00, 11.14it/s]\n"
          ]
        },
        {
          "output_type": "stream",
          "name": "stdout",
          "text": [
            "Test loss: 0.0295 | Test Accuracy: 99.10\n",
            "Time: 44.69 sec\n",
            "\n"
          ]
        },
        {
          "output_type": "stream",
          "name": "stderr",
          "text": [
            "Epoch: 8 | Train Loss=0.0476: 100%|██████████| 469/469 [00:42<00:00, 11.00it/s]\n"
          ]
        },
        {
          "output_type": "stream",
          "name": "stdout",
          "text": [
            "Test loss: 0.0296 | Test Accuracy: 99.04\n",
            "Time: 45.20 sec\n",
            "\n"
          ]
        },
        {
          "output_type": "stream",
          "name": "stderr",
          "text": [
            "Epoch: 9 | Train Loss=0.0428: 100%|██████████| 469/469 [00:43<00:00, 10.89it/s]\n"
          ]
        },
        {
          "output_type": "stream",
          "name": "stdout",
          "text": [
            "Test loss: 0.0228 | Test Accuracy: 99.26\n",
            "Time: 46.20 sec\n",
            "\n"
          ]
        },
        {
          "output_type": "stream",
          "name": "stderr",
          "text": [
            "Epoch: 10 | Train Loss=0.0619: 100%|██████████| 469/469 [00:41<00:00, 11.19it/s]\n"
          ]
        },
        {
          "output_type": "stream",
          "name": "stdout",
          "text": [
            "Test loss: 0.0230 | Test Accuracy: 99.23\n",
            "Time: 44.50 sec\n",
            "\n"
          ]
        },
        {
          "output_type": "stream",
          "name": "stderr",
          "text": [
            "Epoch: 11 | Train Loss=0.0932: 100%|██████████| 469/469 [00:42<00:00, 11.01it/s]\n"
          ]
        },
        {
          "output_type": "stream",
          "name": "stdout",
          "text": [
            "Test loss: 0.0281 | Test Accuracy: 99.15\n",
            "Time: 45.35 sec\n",
            "\n"
          ]
        },
        {
          "output_type": "stream",
          "name": "stderr",
          "text": [
            "Epoch: 12 | Train Loss=0.0389: 100%|██████████| 469/469 [00:42<00:00, 10.96it/s]\n"
          ]
        },
        {
          "output_type": "stream",
          "name": "stdout",
          "text": [
            "Test loss: 0.0226 | Test Accuracy: 99.14\n",
            "Time: 45.35 sec\n",
            "\n"
          ]
        },
        {
          "output_type": "stream",
          "name": "stderr",
          "text": [
            "Epoch: 13 | Train Loss=0.0104: 100%|██████████| 469/469 [00:43<00:00, 10.89it/s]\n"
          ]
        },
        {
          "output_type": "stream",
          "name": "stdout",
          "text": [
            "Test loss: 0.0223 | Test Accuracy: 99.10\n",
            "Time: 45.64 sec\n",
            "\n"
          ]
        },
        {
          "output_type": "stream",
          "name": "stderr",
          "text": [
            "Epoch: 14 | Train Loss=0.0296: 100%|██████████| 469/469 [00:41<00:00, 11.19it/s]\n"
          ]
        },
        {
          "output_type": "stream",
          "name": "stdout",
          "text": [
            "Test loss: 0.0199 | Test Accuracy: 99.33\n",
            "Time: 45.21 sec\n",
            "\n"
          ]
        },
        {
          "output_type": "stream",
          "name": "stderr",
          "text": [
            "Epoch: 15 | Train Loss=0.1699: 100%|██████████| 469/469 [00:42<00:00, 10.96it/s]\n"
          ]
        },
        {
          "output_type": "stream",
          "name": "stdout",
          "text": [
            "Test loss: 0.0211 | Test Accuracy: 99.30\n",
            "Time: 45.41 sec\n",
            "\n"
          ]
        },
        {
          "output_type": "stream",
          "name": "stderr",
          "text": [
            "Epoch: 16 | Train Loss=0.0594: 100%|██████████| 469/469 [00:42<00:00, 11.00it/s]\n"
          ]
        },
        {
          "output_type": "stream",
          "name": "stdout",
          "text": [
            "Test loss: 0.0172 | Test Accuracy: 99.38\n",
            "Time: 45.30 sec\n",
            "\n"
          ]
        },
        {
          "output_type": "stream",
          "name": "stderr",
          "text": [
            "Epoch: 17 | Train Loss=0.0302: 100%|██████████| 469/469 [00:41<00:00, 11.22it/s]\n"
          ]
        },
        {
          "output_type": "stream",
          "name": "stdout",
          "text": [
            "Test loss: 0.0204 | Test Accuracy: 99.39\n",
            "Time: 44.57 sec\n",
            "\n"
          ]
        },
        {
          "output_type": "stream",
          "name": "stderr",
          "text": [
            "Epoch: 18 | Train Loss=0.0490: 100%|██████████| 469/469 [00:42<00:00, 11.02it/s]\n"
          ]
        },
        {
          "output_type": "stream",
          "name": "stdout",
          "text": [
            "Test loss: 0.0186 | Test Accuracy: 99.39\n",
            "Time: 45.10 sec\n",
            "\n"
          ]
        },
        {
          "output_type": "stream",
          "name": "stderr",
          "text": [
            "Epoch: 19 | Train Loss=0.0716: 100%|██████████| 469/469 [00:43<00:00, 10.78it/s]\n"
          ]
        },
        {
          "output_type": "stream",
          "name": "stdout",
          "text": [
            "Test loss: 0.0184 | Test Accuracy: 99.42\n",
            "Time: 46.47 sec\n",
            "\n"
          ]
        }
      ]
    },
    {
      "cell_type": "code",
      "source": [
        "# plot training history\n",
        "import matplotlib.pyplot as plt\n",
        "plt.figure(figsize=(12,12))\n",
        "plt.subplot(2,1,1)\n",
        "ax = plt.gca()\n",
        "ax.set_xlim([0, epoch + 2])\n",
        "plt.ylabel('Loss')\n",
        "plt.plot(range(1, epoch + 2), train_losses[:epoch+1], 'r', label='Training Loss')\n",
        "plt.plot(range(1, epoch + 2), test_losses[:epoch+1], 'b', label='Validation Loss')\n",
        "ax.grid(linestyle='-.')\n",
        "plt.legend()\n",
        "plt.subplot(2,1,2)\n",
        "ax = plt.gca()\n",
        "ax.set_xlim([0, epoch+2])\n",
        "plt.ylabel('Accuracy')\n",
        "# plt.plot(range(1, epoch + 2), train_acc[:epoch+1], 'r', label='Training Accuracy')\n",
        "# plt.plot(range(1, epoch + 2), test_accuracy[:epoch+1], 'b', label='Validation Accuracy')\n",
        "ax.grid(linestyle='-.')\n",
        "plt.legend()\n",
        "plt.show()"
      ],
      "metadata": {
        "id": "jdm_6h21wcbv"
      },
      "execution_count": null,
      "outputs": []
    },
    {
      "cell_type": "code",
      "source": [],
      "metadata": {
        "id": "r-tlp-VDZirY"
      },
      "execution_count": null,
      "outputs": []
    }
  ]
}